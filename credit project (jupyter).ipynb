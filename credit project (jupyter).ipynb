{
 "cells": [
  {
   "cell_type": "code",
   "execution_count": 68,
   "id": "a2db466a",
   "metadata": {},
   "outputs": [],
   "source": [
    "#downloading dataset, importing libraries\n",
    "\n",
    "import pandas as pd\n",
    "\n",
    "import numpy as np\n",
    "\n",
    "import os\n",
    "\n",
    "import matplotlib.pyplot as plt\n",
    "\n",
    "import seaborn as sns\n",
    "\n",
    "import sys\n",
    "\n",
    "from sklearn.preprocessing import StandardScaler\n",
    "from sklearn.preprocessing import OrdinalEncoder\n",
    "from sklearn.ensemble import RandomForestClassifier\n",
    "from sklearn.svm import SVC\n",
    "from sklearn.linear_model import LogisticRegression \n",
    "from sklearn.model_selection import train_test_split \n",
    "from sklearn.metrics import confusion_matrix, ConfusionMatrixDisplay\n",
    "from sklearn.pipeline import make_pipeline\n",
    "from scipy.io import arff\n",
    "\n",
    "from sklearn.datasets import fetch_openml\n",
    "\n",
    "\n",
    "\n"
   ]
  },
  {
   "cell_type": "code",
   "execution_count": null,
   "id": "897dad55",
   "metadata": {},
   "outputs": [],
   "source": []
  },
  {
   "cell_type": "code",
   "execution_count": 69,
   "id": "d993355a",
   "metadata": {},
   "outputs": [
    {
     "name": "stderr",
     "output_type": "stream",
     "text": [
      "C:\\Users\\ideod\\anaconda3\\Lib\\site-packages\\sklearn\\datasets\\_openml.py:1002: FutureWarning: The default value of `parser` will change from `'liac-arff'` to `'auto'` in 1.4. You can set `parser='auto'` to silence this warning. Therefore, an `ImportError` will be raised from 1.4 if the dataset is dense and pandas is not installed. Note that the pandas parser may return different data types. See the Notes Section in fetch_openml's API doc for details.\n",
      "  warn(\n"
     ]
    }
   ],
   "source": [
    "# opening the dataset\n",
    "# converting dataset into pandas dataframe from a dictionary type file.\n",
    "\n",
    "credit = fetch_openml(name='credit-g', version=1)\n",
    "\n",
    "df_features = pd.DataFrame(data = credit['data'])\n",
    "\n",
    "#defining target\n",
    "df_target = pd.DataFrame(data = credit['target'])\n",
    "#appending df_features and df_target\n",
    "df = pd.concat([df_features, df_target], axis = 1)\n",
    "\n",
    "# drop missing values\n",
    "df.dropna()\n",
    "df.dropna(inplace = True)"
   ]
  },
  {
   "cell_type": "code",
   "execution_count": 70,
   "id": "a85a0be9",
   "metadata": {},
   "outputs": [
    {
     "data": {
      "text/plain": [
       "checking_status  duration  credit_history  purpose              credit_amount  savings_status    employment  installment_commitment  personal_status     other_parties  residence_since  property_magnitude  age   other_payment_plans  housing   existing_credits  job                        num_dependents  own_telephone  foreign_worker  class\n",
       "0<=X<200         6.0       all paid        education            433.0          >=1000            <1          4.0                     female div/dep/mar  none           2.0              life insurance      24.0  bank                 rent      1.0               skilled                    2.0             none           yes             bad      1\n",
       "no checking      10.0      existing paid   new car              1364.0         <100              1<=X<4      2.0                     female div/dep/mar  none           4.0              car                 64.0  none                 own       1.0               skilled                    1.0             yes            yes             good     1\n",
       "                 9.0       existing paid   furniture/equipment  2301.0         100<=X<500        <1          2.0                     female div/dep/mar  none           4.0              life insurance      22.0  none                 rent      1.0               skilled                    1.0             none           yes             good     1\n",
       "                                           new car              2507.0         500<=X<1000       >=7         2.0                     male single         none           4.0              no known property   51.0  none                 for free  1.0               unskilled resident         1.0             none           yes             good     1\n",
       "                                                                3577.0         100<=X<500        1<=X<4      1.0                     male single         guarantor      2.0              real estate         26.0  none                 rent      1.0               skilled                    2.0             none           no              good     1\n",
       "                                                                                                                                                                                                                                                                                                                                                      ..\n",
       "<0               12.0      existing paid   furniture/equipment  7865.0         <100              >=7         4.0                     male single         none           4.0              no known property   53.0  none                 for free  1.0               high qualif/self emp/mgmt  1.0             yes            yes             bad      1\n",
       "                                           new car              759.0          <100              4<=X<7      4.0                     male single         none           2.0              real estate         26.0  none                 own       1.0               skilled                    1.0             none           yes             bad      1\n",
       "                                                                900.0          no known savings  1<=X<4      4.0                     male mar/wid        none           2.0              car                 23.0  none                 own       1.0               skilled                    1.0             none           yes             bad      1\n",
       "                                                                1168.0         <100              1<=X<4      4.0                     male mar/wid        none           3.0              real estate         27.0  none                 own       1.0               unskilled resident         1.0             none           yes             good     1\n",
       "no checking      60.0      existing paid   radio/tv             10144.0        100<=X<500        4<=X<7      2.0                     female div/dep/mar  none           4.0              real estate         21.0  none                 own       1.0               skilled                    1.0             yes            yes             good     1\n",
       "Name: count, Length: 1000, dtype: int64"
      ]
     },
     "execution_count": 70,
     "metadata": {},
     "output_type": "execute_result"
    }
   ],
   "source": [
    "# displaying dataset\n",
    "# displaying first few rows.\n",
    "# counting null values\n",
    "df\n",
    "df.head()\n",
    "df.isnull().sum()\n",
    "df.value_counts()\n",
    "\n",
    "\n",
    "\n"
   ]
  },
  {
   "cell_type": "code",
   "execution_count": 71,
   "id": "baab3b97",
   "metadata": {},
   "outputs": [
    {
     "data": {
      "text/html": [
       "<div>\n",
       "<style scoped>\n",
       "    .dataframe tbody tr th:only-of-type {\n",
       "        vertical-align: middle;\n",
       "    }\n",
       "\n",
       "    .dataframe tbody tr th {\n",
       "        vertical-align: top;\n",
       "    }\n",
       "\n",
       "    .dataframe thead th {\n",
       "        text-align: right;\n",
       "    }\n",
       "</style>\n",
       "<table border=\"1\" class=\"dataframe\">\n",
       "  <thead>\n",
       "    <tr style=\"text-align: right;\">\n",
       "      <th></th>\n",
       "      <th>credit_amount</th>\n",
       "      <th>age</th>\n",
       "      <th>existing_credits</th>\n",
       "      <th>num_dependents</th>\n",
       "      <th>credit_history</th>\n",
       "      <th>employment</th>\n",
       "      <th>personal_status</th>\n",
       "    </tr>\n",
       "  </thead>\n",
       "  <tbody>\n",
       "    <tr>\n",
       "      <th>0</th>\n",
       "      <td>1169.0</td>\n",
       "      <td>67.0</td>\n",
       "      <td>2.0</td>\n",
       "      <td>1.0</td>\n",
       "      <td>1.0</td>\n",
       "      <td>3.0</td>\n",
       "      <td>3.0</td>\n",
       "    </tr>\n",
       "    <tr>\n",
       "      <th>1</th>\n",
       "      <td>5951.0</td>\n",
       "      <td>22.0</td>\n",
       "      <td>1.0</td>\n",
       "      <td>1.0</td>\n",
       "      <td>3.0</td>\n",
       "      <td>0.0</td>\n",
       "      <td>0.0</td>\n",
       "    </tr>\n",
       "    <tr>\n",
       "      <th>2</th>\n",
       "      <td>2096.0</td>\n",
       "      <td>49.0</td>\n",
       "      <td>1.0</td>\n",
       "      <td>2.0</td>\n",
       "      <td>1.0</td>\n",
       "      <td>1.0</td>\n",
       "      <td>3.0</td>\n",
       "    </tr>\n",
       "    <tr>\n",
       "      <th>3</th>\n",
       "      <td>7882.0</td>\n",
       "      <td>45.0</td>\n",
       "      <td>1.0</td>\n",
       "      <td>2.0</td>\n",
       "      <td>3.0</td>\n",
       "      <td>1.0</td>\n",
       "      <td>3.0</td>\n",
       "    </tr>\n",
       "    <tr>\n",
       "      <th>4</th>\n",
       "      <td>4870.0</td>\n",
       "      <td>53.0</td>\n",
       "      <td>2.0</td>\n",
       "      <td>2.0</td>\n",
       "      <td>2.0</td>\n",
       "      <td>0.0</td>\n",
       "      <td>3.0</td>\n",
       "    </tr>\n",
       "    <tr>\n",
       "      <th>...</th>\n",
       "      <td>...</td>\n",
       "      <td>...</td>\n",
       "      <td>...</td>\n",
       "      <td>...</td>\n",
       "      <td>...</td>\n",
       "      <td>...</td>\n",
       "      <td>...</td>\n",
       "    </tr>\n",
       "    <tr>\n",
       "      <th>995</th>\n",
       "      <td>1736.0</td>\n",
       "      <td>31.0</td>\n",
       "      <td>1.0</td>\n",
       "      <td>1.0</td>\n",
       "      <td>3.0</td>\n",
       "      <td>1.0</td>\n",
       "      <td>0.0</td>\n",
       "    </tr>\n",
       "    <tr>\n",
       "      <th>996</th>\n",
       "      <td>3857.0</td>\n",
       "      <td>40.0</td>\n",
       "      <td>1.0</td>\n",
       "      <td>1.0</td>\n",
       "      <td>3.0</td>\n",
       "      <td>0.0</td>\n",
       "      <td>1.0</td>\n",
       "    </tr>\n",
       "    <tr>\n",
       "      <th>997</th>\n",
       "      <td>804.0</td>\n",
       "      <td>38.0</td>\n",
       "      <td>1.0</td>\n",
       "      <td>1.0</td>\n",
       "      <td>3.0</td>\n",
       "      <td>3.0</td>\n",
       "      <td>3.0</td>\n",
       "    </tr>\n",
       "    <tr>\n",
       "      <th>998</th>\n",
       "      <td>1845.0</td>\n",
       "      <td>23.0</td>\n",
       "      <td>1.0</td>\n",
       "      <td>1.0</td>\n",
       "      <td>3.0</td>\n",
       "      <td>0.0</td>\n",
       "      <td>3.0</td>\n",
       "    </tr>\n",
       "    <tr>\n",
       "      <th>999</th>\n",
       "      <td>4576.0</td>\n",
       "      <td>27.0</td>\n",
       "      <td>1.0</td>\n",
       "      <td>1.0</td>\n",
       "      <td>1.0</td>\n",
       "      <td>4.0</td>\n",
       "      <td>3.0</td>\n",
       "    </tr>\n",
       "  </tbody>\n",
       "</table>\n",
       "<p>1000 rows × 7 columns</p>\n",
       "</div>"
      ],
      "text/plain": [
       "     credit_amount   age  existing_credits  num_dependents  credit_history  \\\n",
       "0           1169.0  67.0               2.0             1.0             1.0   \n",
       "1           5951.0  22.0               1.0             1.0             3.0   \n",
       "2           2096.0  49.0               1.0             2.0             1.0   \n",
       "3           7882.0  45.0               1.0             2.0             3.0   \n",
       "4           4870.0  53.0               2.0             2.0             2.0   \n",
       "..             ...   ...               ...             ...             ...   \n",
       "995         1736.0  31.0               1.0             1.0             3.0   \n",
       "996         3857.0  40.0               1.0             1.0             3.0   \n",
       "997          804.0  38.0               1.0             1.0             3.0   \n",
       "998         1845.0  23.0               1.0             1.0             3.0   \n",
       "999         4576.0  27.0               1.0             1.0             1.0   \n",
       "\n",
       "     employment  personal_status  \n",
       "0           3.0              3.0  \n",
       "1           0.0              0.0  \n",
       "2           1.0              3.0  \n",
       "3           1.0              3.0  \n",
       "4           0.0              3.0  \n",
       "..          ...              ...  \n",
       "995         1.0              0.0  \n",
       "996         0.0              1.0  \n",
       "997         3.0              3.0  \n",
       "998         0.0              3.0  \n",
       "999         4.0              3.0  \n",
       "\n",
       "[1000 rows x 7 columns]"
      ]
     },
     "metadata": {},
     "output_type": "display_data"
    }
   ],
   "source": [
    "# encoding X_train and X_test\n",
    "enc = OrdinalEncoder()\n",
    "\n",
    "\n",
    "df[['class','credit_history', 'employment', 'personal_status']] = enc.fit_transform(df[['class', 'credit_history', 'employment', 'personal_status' ]]\n",
    ")\n",
    "\n",
    "selected_features = df[['credit_amount', 'age', 'existing_credits', 'num_dependents', 'credit_history', 'employment', 'personal_status']]\n",
    "display(selected_features)\n",
    "\n"
   ]
  },
  {
   "cell_type": "code",
   "execution_count": 72,
   "id": "15b3f23a",
   "metadata": {},
   "outputs": [],
   "source": [
    "#selecting and scaling X variable (selected features)\n",
    "scaler = StandardScaler()\n",
    "\n",
    "X = scaler.fit_transform(selected_features)\n"
   ]
  },
  {
   "cell_type": "code",
   "execution_count": 73,
   "id": "43a83f6d",
   "metadata": {},
   "outputs": [],
   "source": [
    "# defining y variable\n",
    "\n",
    "y = df['class'].values"
   ]
  },
  {
   "cell_type": "code",
   "execution_count": 74,
   "id": "85971de7",
   "metadata": {},
   "outputs": [],
   "source": [
    "#creating a split (train/test)\n",
    "X_train, X_test_val, y_train, y_test_val = train_test_split(X, y, test_size=0.2, random_state=45)\n",
    "\n",
    "\n",
    "#creating a split (train/val)\n",
    "\n",
    "X_test, X_val, y_test, y_val = train_test_split(X_test_val, y_test_val, test_size=0.5, random_state=45)\n",
    "\n",
    "# now the train/validate/test split will be 80%/10%/10%"
   ]
  },
  {
   "cell_type": "code",
   "execution_count": 75,
   "id": "6de210f8",
   "metadata": {},
   "outputs": [
    {
     "name": "stdout",
     "output_type": "stream",
     "text": [
      "0.72\n",
      "[1. 1. 1. 1. 1. 1. 1. 1. 1. 1. 1. 1. 1. 1. 1. 1. 1. 0. 1. 1. 0. 1. 1. 1.\n",
      " 1. 1. 1. 0. 1. 1. 1. 1. 1. 1. 0. 1. 0. 1. 1. 1. 1. 1. 1. 1. 1. 1. 1. 1.\n",
      " 1. 1. 1. 1. 1. 1. 1. 1. 1. 0. 1. 0. 1. 1. 0. 1. 1. 1. 1. 1. 1. 1. 0. 0.\n",
      " 1. 1. 1. 1. 1. 1. 1. 1. 1. 0. 1. 1. 1. 1. 0. 1. 1. 1. 1. 1. 1. 1. 1. 1.\n",
      " 1. 1. 1. 1.]\n",
      "0.76\n",
      "[0. 1. 1. 1. 1. 1. 1. 1. 1. 1. 1. 1. 1. 1. 1. 1. 1. 1. 1. 1. 1. 1. 1. 1.\n",
      " 1. 1. 1. 1. 1. 1. 1. 1. 1. 0. 1. 1. 1. 1. 1. 1. 1. 1. 1. 1. 1. 1. 1. 1.\n",
      " 1. 1. 1. 1. 1. 1. 1. 1. 1. 1. 1. 1. 1. 1. 1. 1. 1. 1. 1. 1. 1. 0. 1. 1.\n",
      " 1. 1. 1. 1. 1. 1. 1. 1. 1. 1. 1. 1. 1. 1. 1. 1. 1. 1. 1. 1. 1. 0. 0. 1.\n",
      " 1. 1. 0. 0.]\n"
     ]
    }
   ],
   "source": [
    "# training the KNN model and predicting (test)\n",
    "from sklearn.neighbors import KNeighborsClassifier \n",
    "#\n",
    "K = 11\n",
    "model = KNeighborsClassifier(n_neighbors=K)\n",
    "model.fit(X_train, y_train)\n",
    "\n",
    "y_pred = model.predict(X_test)\n",
    "\n",
    "score= model.score(X_test, y_test)\n",
    "# training the same KNN model and predicting (validation)\n",
    "y_predict = model.predict(X_val)\n",
    "\n",
    "valscore= model.score(X_val, y_val)\n",
    "\n",
    "print(str(score))\n",
    "print ((y_pred))\n",
    "\n",
    "print(str(valscore))\n",
    "print ((y_predict))"
   ]
  },
  {
   "cell_type": "code",
   "execution_count": 76,
   "id": "15636583",
   "metadata": {},
   "outputs": [],
   "source": [
    "#OPTIMIZING THE KNN MODEL\n",
    "\n",
    "#making a loop to run a range of nearest neighbours to find the best model for testing\n",
    "err_rate = []\n",
    "accuracy = []\n",
    "\n",
    "for i in range(1,20):\n",
    "    knn = KNeighborsClassifier(n_neighbors = i)\n",
    "    knn.fit(X_train, y_train)\n",
    "    predictions_i = knn.predict(X_test)\n",
    "    \n",
    "    err_rate.append(np.mean(predictions_i != y_test))\n",
    "    accuracy.append(knn.score(X_test, y_test))\n",
    "    \n",
    "#making a loop to run a range of nearest neighbours to find the best model for validating\n",
    "valerror_rate = []\n",
    "accuracyval = []\n",
    "\n",
    "for i in range(1,20):\n",
    "    knn = KNeighborsClassifier(n_neighbors = i)\n",
    "    knn.fit(X_train, y_train)\n",
    "    predictions_ival = knn.predict(X_val)\n",
    "    \n",
    "    valerror_rate.append(np.mean(predictions_ival != y_val))\n",
    "    accuracyval.append(knn.score(X_val, y_val))\n"
   ]
  },
  {
   "cell_type": "code",
   "execution_count": 77,
   "id": "684db63f",
   "metadata": {},
   "outputs": [
    {
     "data": {
      "text/plain": [
       "[0.6,\n",
       " 0.55,\n",
       " 0.61,\n",
       " 0.64,\n",
       " 0.67,\n",
       " 0.62,\n",
       " 0.71,\n",
       " 0.69,\n",
       " 0.7,\n",
       " 0.71,\n",
       " 0.72,\n",
       " 0.71,\n",
       " 0.7,\n",
       " 0.71,\n",
       " 0.71,\n",
       " 0.7,\n",
       " 0.7,\n",
       " 0.69,\n",
       " 0.7]"
      ]
     },
     "execution_count": 77,
     "metadata": {},
     "output_type": "execute_result"
    }
   ],
   "source": [
    "# printing accuracy results (testing)\n",
    "accuracy"
   ]
  },
  {
   "cell_type": "code",
   "execution_count": 78,
   "id": "fc8544e7",
   "metadata": {},
   "outputs": [
    {
     "data": {
      "text/plain": [
       "[0.68,\n",
       " 0.56,\n",
       " 0.73,\n",
       " 0.68,\n",
       " 0.73,\n",
       " 0.72,\n",
       " 0.74,\n",
       " 0.76,\n",
       " 0.75,\n",
       " 0.76,\n",
       " 0.76,\n",
       " 0.76,\n",
       " 0.74,\n",
       " 0.73,\n",
       " 0.73,\n",
       " 0.74,\n",
       " 0.73,\n",
       " 0.73,\n",
       " 0.73]"
      ]
     },
     "execution_count": 78,
     "metadata": {},
     "output_type": "execute_result"
    }
   ],
   "source": [
    "#printing accuracy results for validating\n",
    "accuracyval"
   ]
  },
  {
   "cell_type": "code",
   "execution_count": 79,
   "id": "7efe51f3",
   "metadata": {},
   "outputs": [
    {
     "data": {
      "image/png": "[encoded data removed]",
      "text/plain": [
       "<Figure size 1000x400 with 1 Axes>"
      ]
     },
     "metadata": {},
     "output_type": "display_data"
    }
   ],
   "source": [
    "#plotting accuracy (testing) percentage VS K values\n",
    "plt.figure(figsize = (10,4))\n",
    "\n",
    "plt.plot(range(1,20), accuracy, color =\"red\" )\n",
    "plt.title(\"Accuracy percent vs: K value\")\n",
    "plt.xlabel(\"Number of Neighbors\")\n",
    "plt.ylabel(\"Accuracy percentage\")\n",
    "\n",
    "plt.show()"
   ]
  },
  {
   "cell_type": "code",
   "execution_count": 80,
   "id": "276c53be",
   "metadata": {},
   "outputs": [
    {
     "data": {
      "image/png": "[encoded data removed]",
      "text/plain": [
       "<Figure size 1000x400 with 1 Axes>"
      ]
     },
     "metadata": {},
     "output_type": "display_data"
    }
   ],
   "source": [
    "#plotting accuracy (validation) percentage vs K values\n",
    "plt.figure(figsize = (10,4))\n",
    "\n",
    "plt.plot(range(1,20), accuracyval, color =\"orange\" )\n",
    "plt.title(\"ValidationAccuracy percent vs: K value\")\n",
    "plt.xlabel(\"Number of Neighbors\")\n",
    "plt.ylabel(\"Validation Accuracy Rate\")\n",
    "\n",
    "plt.show()"
   ]
  },
  {
   "cell_type": "code",
   "execution_count": 81,
   "id": "d906dba1",
   "metadata": {},
   "outputs": [
    {
     "name": "stdout",
     "output_type": "stream",
     "text": [
      "Conclusion: Based on above graphs, k = 10 is the optimal point for number of neighbors\n"
     ]
    }
   ],
   "source": [
    "print (\"Conclusion: Based on above graphs, k = 10 is the optimal point for number of neighbors\")"
   ]
  },
  {
   "cell_type": "code",
   "execution_count": 82,
   "id": "3abc93de",
   "metadata": {},
   "outputs": [
    {
     "data": {
      "text/plain": [
       "0.72"
      ]
     },
     "execution_count": 82,
     "metadata": {},
     "output_type": "execute_result"
    }
   ],
   "source": [
    "# printing maximum accuracy (testing) score\n",
    "max (accuracy)"
   ]
  },
  {
   "cell_type": "code",
   "execution_count": 83,
   "id": "bd88ba45",
   "metadata": {},
   "outputs": [
    {
     "data": {
      "text/plain": [
       "0.76"
      ]
     },
     "execution_count": 83,
     "metadata": {},
     "output_type": "execute_result"
    }
   ],
   "source": [
    "# printing maximum accuracy (validating) score\n",
    "max (accuracyval)"
   ]
  },
  {
   "cell_type": "code",
   "execution_count": 84,
   "id": "d052d444",
   "metadata": {},
   "outputs": [
    {
     "name": "stdout",
     "output_type": "stream",
     "text": [
      "11\n",
      "0.72\n"
     ]
    }
   ],
   "source": [
    "# running the model for best accuarcy (testing)\n",
    "bestaccuracy_knn = accuracy.index(max(accuracy)) + 1  \n",
    "print(bestaccuracy_knn)\n",
    "\n",
    "# Run the best model\n",
    "\n",
    "bestaccuracy_knn_model = KNeighborsClassifier(n_neighbors = bestaccuracy_knn)\n",
    "bestaccuracy_knn_model.fit(X_train, y_train)\n",
    "\n",
    "\n",
    "print(bestaccuracy_knn_model.score(X_test, y_test))"
   ]
  },
  {
   "cell_type": "code",
   "execution_count": 85,
   "id": "687e514c",
   "metadata": {},
   "outputs": [
    {
     "name": "stdout",
     "output_type": "stream",
     "text": [
      "8\n",
      "0.76\n"
     ]
    }
   ],
   "source": [
    "# running the model for best accuracy (validation)\n",
    "bestaccuracyval_knn = accuracyval.index(max(accuracyval)) + 1 \n",
    "print(bestaccuracyval_knn)\n",
    "\n",
    "# Run the best model\n",
    "\n",
    "bestaccuracyval_knn_model = KNeighborsClassifier(n_neighbors = bestaccuracyval_knn)\n",
    "bestaccuracyval_knn_model.fit(X_train, y_train)\n",
    "\n",
    "print(bestaccuracyval_knn_model.score(X_val, y_val))"
   ]
  },
  {
   "cell_type": "code",
   "execution_count": 86,
   "id": "9064208b",
   "metadata": {},
   "outputs": [
    {
     "data": {
      "image/png": "[encoded data removed]",
      "text/plain": [
       "<Figure size 640x480 with 2 Axes>"
      ]
     },
     "metadata": {},
     "output_type": "display_data"
    }
   ],
   "source": [
    "# displaying confusion matrix (testing)\n",
    "clf = make_pipeline(StandardScaler(), LogisticRegression(random_state = 0))\n",
    "clf.fit(X_train, y_train)\n",
    "y_predclf = clf.predict(X_test)\n",
    "cm = confusion_matrix(y_test, y_predclf)\n",
    "cm_display = ConfusionMatrixDisplay(cm).plot()"
   ]
  },
  {
   "cell_type": "code",
   "execution_count": 87,
   "id": "eda4886d",
   "metadata": {},
   "outputs": [
    {
     "data": {
      "image/png": "[encoded data removed]",
      "text/plain": [
       "<Figure size 640x480 with 2 Axes>"
      ]
     },
     "metadata": {},
     "output_type": "display_data"
    }
   ],
   "source": [
    "# printing confusion matrix for validating\n",
    "clf = make_pipeline(StandardScaler(), LogisticRegression(random_state = 0))\n",
    "clf.fit(X_train, y_train)\n",
    "y_predclf1 = clf.predict(X_val)\n",
    "cm1 = confusion_matrix(y_val, y_predclf1)\n",
    "cm_display1 = ConfusionMatrixDisplay(cm1).plot()"
   ]
  }
 ],
 "metadata": {
  "kernelspec": {
   "display_name": "Python 3 (ipykernel)",
   "language": "python",
   "name": "python3"
  },
  "language_info": {
   "codemirror_mode": {
    "name": "ipython",
    "version": 3
   },
   "file_extension": ".py",
   "mimetype": "text/x-python",
   "name": "python",
   "nbconvert_exporter": "python",
   "pygments_lexer": "ipython3",
   "version": "3.11.5"
  }
 },
 "nbformat": 4,
 "nbformat_minor": 5
}
